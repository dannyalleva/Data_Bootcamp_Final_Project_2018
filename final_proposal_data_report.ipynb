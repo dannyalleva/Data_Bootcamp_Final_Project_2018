{
 "cells": [
  {
   "cell_type": "markdown",
   "metadata": {},
   "source": [
    "## Final Proposal: The Dynamics of Economic Activity at the Community Level.\n",
    "\n",
    "#### Principal Investigator: [Michael Waugh](https:\\\\waugheconomics.com) <br> Email: [mwaugh@stern.nyu.edu](mwaugh@stern.nyu.edu)\n",
    "\n",
    "This project will study how measures of economic activity (income, unemployment, production structure) evolve over time at a narrow geographic level (a [commute zone](https://en.wikipedia.org/wiki/Commuting_zone)) within the United States. As an example, consider New York City: It has had ups and downs over the years, In the 1970s and 80s it was a model of urban decay; Today, there are few areas in the United States that are more prosperous than New York. This project will describe an visualize the properties of these fluctuations.\n",
    "\n",
    "The key element of the project is the use of [BEA's API](https://www.bea.gov/API/bea_web_service_api_user_guide.htm) providing access to measures of economic activity at (i) detailed geographic levels (e.g. county's) and (ii) a long time series for these measures dating back to 1969. Details of this dataset are described below in the data report.\n",
    "\n",
    "I anticipate that the project will have three sections.\n",
    "\n",
    "- Basic statistics about the cross-sectional inequality and the volatility of income over time will be reported.\n",
    "\n",
    "\n",
    "- Visualizations of illustrating the dynamics. For example, paths for interesting areas will be presented relative to aggregate statistics of the distribution, e.g. like Korea in the PWT matplotlib example) and disasters (e.g. Detroit).\n",
    "\n",
    "\n",
    "- Finally, I plan present a national map that illustrates the relative changes over time to visualize the geographic distribution of these local economic fluctuations in economic activity. This map might be supplemented with an additional map which cross-references the production structure of each community, e.g. we may see that those communities that were most tilted towards manufacturing are the ones that declined the most."
   ]
  },
  {
   "cell_type": "markdown",
   "metadata": {},
   "source": [
    "---\n",
    "\n",
    "### Data Report\n",
    "\n",
    "**Overview:** The data behind my project comes from the [Bureau of Economic Analysis](https://www.bea.gov/). As mentioned above, their [regional accounts data](https://www.bea.gov/regional/index.htm) provides access to measures of economic activity at (i) detailed geographic levels (e.g. county's) and (ii) a long time series for these measures dating back to 1969. \n",
    "\n",
    "**Important Variables:** The key series that I must retrieve is what the BEA calls [personal income](https://www.bea.gov/newsreleases/regional/lapi/lapi_newsrelease.htm) which is defined as:\n",
    "\n",
    "\"*Personal income* is the income received by, or on behalf of, all persons from all sources: from participation as laborers in production, from owning a home or unincorporated business, from the ownership of financial assets, and from government and business in the form of transfer receipts. It includes income from domestic sources as well as from the rest of the world.\"\n",
    "\n",
    "One way to think about this is that it is close to an income side measure of output. In my analysis, I will focus on personal income per capita which adjusts this measure by the population within that geographic area.\n",
    "\n",
    "In my report I will also download population. Other measures of economic activity are available from the BEA or can be merged with the Census. \n",
    "\n",
    "The *Geography* that I will work with is at the county level. I eventually may aggregate up to what is called a \"commute zone.\"\n",
    "\n",
    "**Access** I will use the BEA's API to download and access the data. Below I demonstrate that I have the ability to access the data.\n"
   ]
  },
  {
   "cell_type": "markdown",
   "metadata": {},
   "source": [
    "**Requisite Packages** Below I bring in the packages I need..."
   ]
  },
  {
   "cell_type": "code",
   "execution_count": 2,
   "metadata": {
    "collapsed": true
   },
   "outputs": [],
   "source": [
    "import pandas as pd # We know this one...\n",
    "import requests # This is usefull with the API\n",
    "import numpy as np # For performing numerical analysis\n",
    "import matplotlib.pyplot as plt # Plotting\n",
    "import weightedcalcs as wc # This allows for \"weighted\" calculations"
   ]
  },
  {
   "cell_type": "markdown",
   "metadata": {},
   "source": [
    "**Grabing the Data:** Below I use the BEA API to grab personal income per capita and population for all years between 1969 and 2015. First, I create a string of years to pass to the BEA."
   ]
  },
  {
   "cell_type": "code",
   "execution_count": 4,
   "metadata": {
    "collapsed": true
   },
   "outputs": [],
   "source": [
    "years = range(1969,2018)\n",
    "\n",
    "years = \"\".join(str(list(years)))\n",
    "\n",
    "years = years[1:-1]"
   ]
  },
  {
   "cell_type": "markdown",
   "metadata": {},
   "source": [
    "Then I will grab the income data..."
   ]
  },
  {
   "cell_type": "code",
   "execution_count": 5,
   "metadata": {
    "collapsed": true
   },
   "outputs": [],
   "source": [
    "BEA_ID = \"6BF79D8C-8042-4196-88DC-0E0C55B0C3B6\" # This is my Key\n",
    "\n",
    "my_key = \"https://bea.gov/api/data?&UserID=\" + BEA_ID + \"&method=GetData&\"\n",
    "\n",
    "data_set = \"datasetname=RegionalIncome&\" # This access the Regional Income dataset\n",
    "\n",
    "table_and_line_income = \"TableName=CA1&LineCode=3&\" # This grabs the income data\n",
    "\n",
    "table_and_line_population = \"TableName=CA1&LineCode=2&\" # This grabs the populaiton data\n",
    "\n",
    "year = \"Year=\" + years + \"&\" # Makes the years\n",
    "\n",
    "location = \"GeoFips=COUNTY&\" # This is the location. I'm going to do this at the county level.\n",
    "\n",
    "form = \"ResultFormat=json\" # The format."
   ]
  },
  {
   "cell_type": "code",
   "execution_count": 6,
   "metadata": {
    "collapsed": true
   },
   "outputs": [],
   "source": [
    "API_URL = my_key + data_set + table_and_line_income + year + location + form\n",
    "\n",
    "r = requests.get(API_URL)\n",
    "\n",
    "df_income = pd.DataFrame(r.json()[\"BEAAPI\"][\"Results\"][\"Data\"])"
   ]
  },
  {
   "cell_type": "markdown",
   "metadata": {},
   "source": [
    "Then I'm going to clean this up a bit..."
   ]
  },
  {
   "cell_type": "code",
   "execution_count": null,
   "metadata": {
    "collapsed": true
   },
   "outputs": [],
   "source": [
    "df_income.drop(['CL_UNIT', 'Code',\"NoteRef\", \"UNIT_MULT\"], axis=1, inplace = True)\n",
    "\n",
    "#df[\"DataValue\"].column = \"IncomePC\"\n",
    "\n",
    "df_income.rename(columns={\"DataValue\":\"IncomePC\"}, inplace=True)\n"
   ]
  },
  {
   "cell_type": "markdown",
   "metadata": {},
   "source": [
    "Then do the same thing for population..."
   ]
  },
  {
   "cell_type": "code",
   "execution_count": null,
   "metadata": {
    "collapsed": true
   },
   "outputs": [],
   "source": [
    "API_URL = my_key + data_set + table_and_line_population + year + location + form\n",
    "\n",
    "r = requests.get(API_URL)\n",
    "\n",
    "population = pd.DataFrame(r.json()[\"BEAAPI\"][\"Results\"][\"Data\"])\n",
    "\n",
    "population.drop(['CL_UNIT', 'Code',\"NoteRef\", \"UNIT_MULT\", \"GeoName\"], axis=1, inplace = True)\n",
    "\n",
    "#df[\"DataValue\"].column = \"IncomePC\"\n",
    "\n",
    "population.rename(columns={\"DataValue\":\"Population\"}, inplace=True)\n",
    "\n",
    "population.head()"
   ]
  },
  {
   "cell_type": "markdown",
   "metadata": {},
   "source": [
    "Then merge the two datasets together..."
   ]
  },
  {
   "cell_type": "code",
   "execution_count": 17,
   "metadata": {
    "collapsed": true
   },
   "outputs": [],
   "source": [
    "combo = pd.merge(population, df_income,   # left df, right df\n",
    "                 how='inner',      # Try the different options, inner, outer, left, right...what happens.\n",
    "                 on=['GeoFips',\"TimePeriod\"],       # link with cntry\n",
    "                 indicator=True)  # Tells us what happend"
   ]
  },
  {
   "cell_type": "markdown",
   "metadata": {},
   "source": [
    "These are some summary statistics from about the data"
   ]
  },
  {
   "cell_type": "code",
   "execution_count": 21,
   "metadata": {},
   "outputs": [
    {
     "name": "stdout",
     "output_type": "stream",
     "text": [
      "<class 'pandas.core.frame.DataFrame'>\n",
      "Int64Index: 153504 entries, 0 to 153503\n",
      "Data columns (total 6 columns):\n",
      "Population    153504 non-null object\n",
      "GeoFips       153504 non-null object\n",
      "TimePeriod    153504 non-null object\n",
      "IncomePC      153504 non-null object\n",
      "GeoName       153504 non-null object\n",
      "_merge        153504 non-null category\n",
      "dtypes: category(1), object(5)\n",
      "memory usage: 7.2+ MB\n"
     ]
    }
   ],
   "source": [
    "combo.info()"
   ]
  },
  {
   "cell_type": "markdown",
   "metadata": {},
   "source": [
    "So there is a decent amoung ot stuff here. Let me show you an aspect of one year by looking at the head and the tail."
   ]
  },
  {
   "cell_type": "code",
   "execution_count": 23,
   "metadata": {},
   "outputs": [
    {
     "data": {
      "text/html": [
       "<div>\n",
       "<style scoped>\n",
       "    .dataframe tbody tr th:only-of-type {\n",
       "        vertical-align: middle;\n",
       "    }\n",
       "\n",
       "    .dataframe tbody tr th {\n",
       "        vertical-align: top;\n",
       "    }\n",
       "\n",
       "    .dataframe thead th {\n",
       "        text-align: right;\n",
       "    }\n",
       "</style>\n",
       "<table border=\"1\" class=\"dataframe\">\n",
       "  <thead>\n",
       "    <tr style=\"text-align: right;\">\n",
       "      <th></th>\n",
       "      <th>Population</th>\n",
       "      <th>GeoFips</th>\n",
       "      <th>TimePeriod</th>\n",
       "      <th>IncomePC</th>\n",
       "      <th>GeoName</th>\n",
       "      <th>_merge</th>\n",
       "    </tr>\n",
       "  </thead>\n",
       "  <tbody>\n",
       "    <tr>\n",
       "      <th>4</th>\n",
       "      <td>320896618</td>\n",
       "      <td>00000</td>\n",
       "      <td>2015</td>\n",
       "      <td>48451</td>\n",
       "      <td>United States</td>\n",
       "      <td>both</td>\n",
       "    </tr>\n",
       "    <tr>\n",
       "      <th>54</th>\n",
       "      <td>4853875</td>\n",
       "      <td>01000</td>\n",
       "      <td>2015</td>\n",
       "      <td>38214</td>\n",
       "      <td>Alabama</td>\n",
       "      <td>both</td>\n",
       "    </tr>\n",
       "    <tr>\n",
       "      <th>100</th>\n",
       "      <td>55035</td>\n",
       "      <td>01001</td>\n",
       "      <td>2015</td>\n",
       "      <td>38575</td>\n",
       "      <td>Autauga, AL</td>\n",
       "      <td>both</td>\n",
       "    </tr>\n",
       "    <tr>\n",
       "      <th>150</th>\n",
       "      <td>203690</td>\n",
       "      <td>01003</td>\n",
       "      <td>2015</td>\n",
       "      <td>40640</td>\n",
       "      <td>Baldwin, AL</td>\n",
       "      <td>both</td>\n",
       "    </tr>\n",
       "    <tr>\n",
       "      <th>196</th>\n",
       "      <td>26270</td>\n",
       "      <td>01005</td>\n",
       "      <td>2015</td>\n",
       "      <td>31635</td>\n",
       "      <td>Barbour, AL</td>\n",
       "      <td>both</td>\n",
       "    </tr>\n",
       "    <tr>\n",
       "      <th>246</th>\n",
       "      <td>22561</td>\n",
       "      <td>01007</td>\n",
       "      <td>2015</td>\n",
       "      <td>28919</td>\n",
       "      <td>Bibb, AL</td>\n",
       "      <td>both</td>\n",
       "    </tr>\n",
       "    <tr>\n",
       "      <th>292</th>\n",
       "      <td>57676</td>\n",
       "      <td>01009</td>\n",
       "      <td>2015</td>\n",
       "      <td>31560</td>\n",
       "      <td>Blount, AL</td>\n",
       "      <td>both</td>\n",
       "    </tr>\n",
       "    <tr>\n",
       "      <th>342</th>\n",
       "      <td>10455</td>\n",
       "      <td>01011</td>\n",
       "      <td>2015</td>\n",
       "      <td>26345</td>\n",
       "      <td>Bullock, AL</td>\n",
       "      <td>both</td>\n",
       "    </tr>\n",
       "    <tr>\n",
       "      <th>388</th>\n",
       "      <td>20126</td>\n",
       "      <td>01013</td>\n",
       "      <td>2015</td>\n",
       "      <td>33475</td>\n",
       "      <td>Butler, AL</td>\n",
       "      <td>both</td>\n",
       "    </tr>\n",
       "    <tr>\n",
       "      <th>438</th>\n",
       "      <td>115285</td>\n",
       "      <td>01015</td>\n",
       "      <td>2015</td>\n",
       "      <td>33522</td>\n",
       "      <td>Calhoun, AL</td>\n",
       "      <td>both</td>\n",
       "    </tr>\n",
       "  </tbody>\n",
       "</table>\n",
       "</div>"
      ],
      "text/plain": [
       "    Population GeoFips TimePeriod IncomePC        GeoName _merge\n",
       "4    320896618   00000       2015    48451  United States   both\n",
       "54     4853875   01000       2015    38214        Alabama   both\n",
       "100      55035   01001       2015    38575    Autauga, AL   both\n",
       "150     203690   01003       2015    40640    Baldwin, AL   both\n",
       "196      26270   01005       2015    31635    Barbour, AL   both\n",
       "246      22561   01007       2015    28919       Bibb, AL   both\n",
       "292      57676   01009       2015    31560     Blount, AL   both\n",
       "342      10455   01011       2015    26345    Bullock, AL   both\n",
       "388      20126   01013       2015    33475     Butler, AL   both\n",
       "438     115285   01015       2015    33522    Calhoun, AL   both"
      ]
     },
     "execution_count": 23,
     "metadata": {},
     "output_type": "execute_result"
    }
   ],
   "source": [
    "combo[combo.TimePeriod == \"2015\"].head(10)"
   ]
  },
  {
   "cell_type": "code",
   "execution_count": 22,
   "metadata": {},
   "outputs": [
    {
     "data": {
      "text/html": [
       "<div>\n",
       "<style scoped>\n",
       "    .dataframe tbody tr th:only-of-type {\n",
       "        vertical-align: middle;\n",
       "    }\n",
       "\n",
       "    .dataframe tbody tr th {\n",
       "        vertical-align: top;\n",
       "    }\n",
       "\n",
       "    .dataframe thead th {\n",
       "        text-align: right;\n",
       "    }\n",
       "</style>\n",
       "<table border=\"1\" class=\"dataframe\">\n",
       "  <thead>\n",
       "    <tr style=\"text-align: right;\">\n",
       "      <th></th>\n",
       "      <th>Population</th>\n",
       "      <th>GeoFips</th>\n",
       "      <th>TimePeriod</th>\n",
       "      <th>IncomePC</th>\n",
       "      <th>GeoName</th>\n",
       "      <th>_merge</th>\n",
       "    </tr>\n",
       "  </thead>\n",
       "  <tbody>\n",
       "    <tr>\n",
       "      <th>153057</th>\n",
       "      <td>8334</td>\n",
       "      <td>56043</td>\n",
       "      <td>2015</td>\n",
       "      <td>42573</td>\n",
       "      <td>Washakie, WY</td>\n",
       "      <td>both</td>\n",
       "    </tr>\n",
       "    <tr>\n",
       "      <th>153105</th>\n",
       "      <td>7230</td>\n",
       "      <td>56045</td>\n",
       "      <td>2015</td>\n",
       "      <td>44841</td>\n",
       "      <td>Weston, WY</td>\n",
       "      <td>both</td>\n",
       "    </tr>\n",
       "    <tr>\n",
       "      <th>153153</th>\n",
       "      <td>14710229</td>\n",
       "      <td>91000</td>\n",
       "      <td>2015</td>\n",
       "      <td>60088</td>\n",
       "      <td>New England</td>\n",
       "      <td>both</td>\n",
       "    </tr>\n",
       "    <tr>\n",
       "      <th>153201</th>\n",
       "      <td>49083944</td>\n",
       "      <td>92000</td>\n",
       "      <td>2015</td>\n",
       "      <td>56284</td>\n",
       "      <td>Mideast</td>\n",
       "      <td>both</td>\n",
       "    </tr>\n",
       "    <tr>\n",
       "      <th>153249</th>\n",
       "      <td>46742511</td>\n",
       "      <td>93000</td>\n",
       "      <td>2015</td>\n",
       "      <td>45571</td>\n",
       "      <td>Great Lakes</td>\n",
       "      <td>both</td>\n",
       "    </tr>\n",
       "    <tr>\n",
       "      <th>153297</th>\n",
       "      <td>21095876</td>\n",
       "      <td>94000</td>\n",
       "      <td>2015</td>\n",
       "      <td>47123</td>\n",
       "      <td>Plains</td>\n",
       "      <td>both</td>\n",
       "    </tr>\n",
       "    <tr>\n",
       "      <th>153345</th>\n",
       "      <td>82092717</td>\n",
       "      <td>95000</td>\n",
       "      <td>2015</td>\n",
       "      <td>42649</td>\n",
       "      <td>Southeast</td>\n",
       "      <td>both</td>\n",
       "    </tr>\n",
       "    <tr>\n",
       "      <th>153393</th>\n",
       "      <td>40234946</td>\n",
       "      <td>96000</td>\n",
       "      <td>2015</td>\n",
       "      <td>44876</td>\n",
       "      <td>Southwest</td>\n",
       "      <td>both</td>\n",
       "    </tr>\n",
       "    <tr>\n",
       "      <th>153441</th>\n",
       "      <td>11710907</td>\n",
       "      <td>97000</td>\n",
       "      <td>2015</td>\n",
       "      <td>46320</td>\n",
       "      <td>Rocky Mountain</td>\n",
       "      <td>both</td>\n",
       "    </tr>\n",
       "    <tr>\n",
       "      <th>153489</th>\n",
       "      <td>55225488</td>\n",
       "      <td>98000</td>\n",
       "      <td>2015</td>\n",
       "      <td>53014</td>\n",
       "      <td>Far West</td>\n",
       "      <td>both</td>\n",
       "    </tr>\n",
       "  </tbody>\n",
       "</table>\n",
       "</div>"
      ],
      "text/plain": [
       "       Population GeoFips TimePeriod IncomePC         GeoName _merge\n",
       "153057       8334   56043       2015    42573    Washakie, WY   both\n",
       "153105       7230   56045       2015    44841      Weston, WY   both\n",
       "153153   14710229   91000       2015    60088     New England   both\n",
       "153201   49083944   92000       2015    56284         Mideast   both\n",
       "153249   46742511   93000       2015    45571     Great Lakes   both\n",
       "153297   21095876   94000       2015    47123          Plains   both\n",
       "153345   82092717   95000       2015    42649       Southeast   both\n",
       "153393   40234946   96000       2015    44876       Southwest   both\n",
       "153441   11710907   97000       2015    46320  Rocky Mountain   both\n",
       "153489   55225488   98000       2015    53014        Far West   both"
      ]
     },
     "execution_count": 22,
     "metadata": {},
     "output_type": "execute_result"
    }
   ],
   "source": [
    "combo[combo.TimePeriod == \"2015\"].tail(10)"
   ]
  },
  {
   "cell_type": "markdown",
   "metadata": {},
   "source": [
    "And notice that the data is giving me county level stuff, but also aggregated values. "
   ]
  },
  {
   "cell_type": "markdown",
   "metadata": {},
   "source": [
    "---\n",
    "\n",
    "## Summary\n",
    "\n",
    "It looks like I have the data to answer my questions. Lots more work to do, but progress!"
   ]
  }
 ],
 "metadata": {
  "anaconda-cloud": {},
  "hide_input": false,
  "kernelspec": {
   "display_name": "Python [default]",
   "language": "python",
   "name": "python3"
  },
  "language_info": {
   "codemirror_mode": {
    "name": "ipython",
    "version": 3
   },
   "file_extension": ".py",
   "mimetype": "text/x-python",
   "name": "python",
   "nbconvert_exporter": "python",
   "pygments_lexer": "ipython3",
   "version": "3.5.2"
  }
 },
 "nbformat": 4,
 "nbformat_minor": 2
}
